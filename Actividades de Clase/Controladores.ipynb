{
 "cells": [
  {
   "cell_type": "markdown",
   "id": "c421dcc7-20ba-4b82-86e9-f3f6a7a05106",
   "metadata": {},
   "source": [
    "# Controladores\n",
    "## Integración de Euler en un motor CC\n",
    "Se tiene un modelo de un motor de corriente continua con un torque de carga en el rotor. Las ecuaciones que lo relacionan dinamicamente son:\n",
    "\n",
    "$$ i_f' = -\\frac{R_F}{L_{FF}} i_f + \\frac{1}{L_{FF}} V_f $$\n",
    "\n",
    "$$ i_a' = -\\frac{R_A}{L_{AA}} i_a-\\frac{L_{AF}}{L_{AA}} i_f \\omega_r + \\frac{1}{L_{AA}} V_A $$\n",
    "\n",
    "$$ \\omega_r' = -\\frac{B_m}{J} \\omega_r+\\frac{L_{AF}}{J} i_f i_a-\\frac{1}{J} T_L $$\n",
    "\n",
    "Si la corriente de magnetizacion es constante podemos simplificar la ecuación de la siguiente forma:\n",
    "\n",
    "$$ K_i = -\\frac{L_{AF}}{J} i_f $$\n",
    "\n",
    "$$ T_m = K_i i_a $$\n",
    "\n",
    "$$ i_a' = -\\frac{R_A}{L_{AA}} i_a-\\frac{K_m}{L_{AA}} \\omega_r + \\frac{1}{L_{AA}} V_A $$\n",
    "\n",
    "$$ \\omega_r' = -\\frac{B_m}{J} \\omega_r+\\frac{K_i}{J} i_a-\\frac{1}{J} T_L $$\n",
    "\n",
    "Determinamos la función de transferencia para $$T_L = 0$$ "
   ]
  },
  {
   "cell_type": "code",
   "execution_count": 8,
   "id": "99bbf49e-c25d-4a7c-9ee2-72bdd50481ee",
   "metadata": {
    "tags": []
   },
   "outputs": [
    {
     "name": "stdout",
     "output_type": "stream",
     "text": [
      "                        Ki                      \n",
      "  ──────────────────────────────────────────────\n",
      "                             2                  \n",
      "  Bm⋅Laa⋅s + Bm⋅Ra + Jm⋅Laa⋅s  + Jm⋅Ra⋅s + Ki⋅Km\n"
     ]
    }
   ],
   "source": [
    "pkg load symbolic\n",
    "syms Va Ra Laa ia Km w Jm Ki Bm s real\n",
    "eq2=Jm*s*w==Ki*ia-Bm*w;\n",
    "eq1=Va==Ra*ia+Laa*s*ia+Km*w;\n",
    "S1=solve(eq1,eq2,w,Va);\n",
    "G=factor(S1.w/S1.Va, 's');\n",
    "pretty(G)"
   ]
  },
  {
   "cell_type": "markdown",
   "id": "87a53665-2ecb-4f88-985a-8bca2e2f9fd6",
   "metadata": {},
   "source": [
    "La ecuación de transferencia del sistema es:\n",
    "\n",
    "$$ \\frac{\\omega_r}{V_a} = \\frac{K_i}{s^2 L_{AA} J + s(R_A J + L_{AA}B)+(R_AB+K_iK_m)}$$"
   ]
  },
  {
   "cell_type": "markdown",
   "id": "cfa5db20-1d19-4966-82ef-1a227b1ee3e4",
   "metadata": {},
   "source": [
    "Asignamos los valores correspondientes al motor"
   ]
  },
  {
   "cell_type": "code",
   "execution_count": 11,
   "id": "29c8b1bf-8a94-447e-a908-3c093deafcb0",
   "metadata": {
    "tags": []
   },
   "outputs": [
    {
     "name": "stdout",
     "output_type": "stream",
     "text": [
      "\n",
      "Transfer function 'sys' from input 'u1' to output ...\n",
      "\n",
      "                     0.00649               \n",
      " y1:  -------------------------------------\n",
      "      1.83e-12 s^2 + 2.78e-07 s + 4.238e-05\n",
      "\n",
      "Continuous-time model.\n",
      "p =\n",
      "\n",
      "  -1.5176e+05\n",
      "  -1.5260e+02\n",
      "\n"
     ]
    },
    {
     "data": {
      "image/png": "[encoded data removed]",
      "text/plain": [
       "<IPython.core.display.Image object>"
      ]
     },
     "metadata": {},
     "output_type": "display_data"
    }
   ],
   "source": [
    "clear all;\n",
    "pkg load control\n",
    "\n",
    "Laa=366e-6;\n",
    "J=5e-9;\n",
    "Ra=55.6;\n",
    "B=0;\n",
    "Ki=6.49e-3;\n",
    "Km=6.53e-3;\n",
    "\n",
    "num=[Ki];\n",
    "den=[Laa*J Ra*J+Laa*B Ra*B+Ki*Km];\n",
    "sys=tf(num,den)\n",
    "p = pole(sys)\n",
    "step(sys)"
   ]
  },
  {
   "cell_type": "markdown",
   "id": "9657dea4-32b8-4e1c-bd34-bba9a3f1241c",
   "metadata": {},
   "source": [
    "Si observamos la función de transferencia del motor, podemos observar que los polos son $$ p_1 = -1.51e05 $$ $$ p_2 = -1.52e02 $$. El tiempo al que corresponde el 95% de la dinámica mas rápida es\n",
    "\n",
    "$$ t_R = \\frac{ln(0.95)}{p_1} $$"
   ]
  },
  {
   "cell_type": "code",
   "execution_count": 12,
   "id": "aa2d6b20-33d2-4895-9688-22b18053e384",
   "metadata": {
    "tags": []
   },
   "outputs": [
    {
     "name": "stdout",
     "output_type": "stream",
     "text": [
      "tR = 3.3799e-07\n"
     ]
    }
   ],
   "source": [
    "tR = log(0.95)/p(1)"
   ]
  },
  {
   "cell_type": "markdown",
   "id": "5955d180-476f-4812-9704-53e23f4f953c",
   "metadata": {},
   "source": [
    "El tiempo de integración debe ser menor que este mismo, por ejemplo tomamos tres veces menor, es decir 1e-07. Para calcular el tiempo de simulación tomamos la constante mas lenta y calculamos el tiempo para 0.05% de la dinámica más lenta.\n",
    "\n",
    "$$ t_l = \\frac{ln(0.05)}{p_2}$$"
   ]
  },
  {
   "cell_type": "code",
   "execution_count": 14,
   "id": "6ef3791b-ef77-45bd-b1db-7d674c5e6248",
   "metadata": {
    "tags": []
   },
   "outputs": [
    {
     "name": "stdout",
     "output_type": "stream",
     "text": [
      "tL = 0.019631\n"
     ]
    }
   ],
   "source": [
    "tL = log(0.05)/p(2)"
   ]
  },
  {
   "cell_type": "markdown",
   "id": "a435b151-2345-4c23-b74c-20f395682ca2",
   "metadata": {},
   "source": [
    "Tomamos el triple de este valor, es decir 0.06.\n",
    "\n",
    "Vamos a simular el desarollo de las variables de estado con respuesta al escalón unitario usando integración de Euler"
   ]
  },
  {
   "cell_type": "code",
   "execution_count": 29,
   "id": "496d0614-10e8-4e5d-a4ff-2cc91d0afaae",
   "metadata": {
    "tags": []
   },
   "outputs": [],
   "source": [
    "clear all;\n",
    "function [X]=modmotor(t_etapa, xant, accion)\n",
    " Laa=366e-6; J=5e-9;Ra=55.6;B=0;Ki=6.49e-3;Km=6.53e-3; \n",
    " Va=accion;\n",
    " h=1e-7;\n",
    " omega= xant(1);\n",
    " wp= xant(2);\n",
    " for ii=1:t_etapa/h\n",
    "  wpp =(-wp*(Ra*J+Laa*B)-omega*(Ra*B+Ki*Km)+Va*Ki)/(J*Laa);\n",
    "  wp=wp+h*wpp;\n",
    "  omega = omega + h*wp;\n",
    " endfor\n",
    "X=[omega,wp];\n",
    "end\n"
   ]
  },
  {
   "cell_type": "code",
   "execution_count": 31,
   "id": "363f734f-c873-472a-9913-cdbb3ffc2264",
   "metadata": {
    "tags": []
   },
   "outputs": [
    {
     "data": {
      "image/png": "[encoded data removed]",
      "text/plain": [
       "<IPython.core.display.Image object>"
      ]
     },
     "metadata": {},
     "output_type": "display_data"
    }
   ],
   "source": [
    "X=-[0; 0];ii=0;t_etapa=1e-7;wRef=2;tF=.001;\n",
    "%Constantes del PID\n",
    "Kp=.500;Ki=0.001;Kd=0.00001;color_='r';\n",
    "% Kp=1;Ki=0;Kd=0.0001;color_='k';\n",
    "% Kp=10;Ki=0;Kd=0;color_='b';\n",
    "Ts=t_etapa;\n",
    "A1=((2*Kp*Ts)+(Ki*(Ts^2))+(2*Kd))/(2*Ts);\n",
    "B1=(-2*Kp*Ts+Ki*(Ts^2)-4*Kd)/(2*Ts);\n",
    "C1=Kd/Ts;\n",
    "e=zeros(tF/t_etapa,1);u=0;\n",
    "for t=0:t_etapa:tF\n",
    "  ii=ii+1;k=ii+2;\n",
    "  X=modmotor(t_etapa, X, u);\n",
    "  e(k)=wRef-X(1); %ERROR\n",
    "  u=u+A1*e(k)+B1*e(k-1)+C1*e(k-2); %PID\n",
    "  x1(ii)=X(1);%Omega\n",
    "  x2(ii)=X(2);%wp\n",
    "  acc(ii)=u;\n",
    "end\n",
    "t=0:t_etapa:tF;\n",
    "hfig1 = figure(1); set(hfig1, 'Visible', 'off');\n",
    "subplot(2,1,1);hold on;\n",
    "plot(t,x1,color_);title('Salida y, \\omega_t');\n",
    "subplot(2,1,2);hold on;\n",
    "plot(t,acc,color_);title('Entrada u_t, v_a');\n",
    "xlabel('Tiempo [Seg.]');\n",
    "% % Para verificar\n",
    "% Laa=366e-6;\n",
    "% J=5e-9;\n",
    "% Ra=55.6;\n",
    "% B=0;\n",
    "% Ki=6.49e-3;\n",
    "% Km=6.53e-3;\n",
    "% num=[Ki]"
   ]
  },
  {
   "cell_type": "markdown",
   "id": "b34e7ec1-d7c8-4b3d-bcc2-4c37079274a0",
   "metadata": {},
   "source": [
    "## Router TCP/IP\n",
    "La funcion de transferencia de lazo abierto específica de la pila del router, definido como proceso o planta es\n",
    "\n",
    "$$ G(s) = \\frac{7031250*e^{-0.2s}}{(s+0.667)(s+5)(s+50)} $$\n",
    "\n",
    "Si reemplazamos el retardo definido por la exponencial con una aproximacion de Padé de primer orden tenemos que\n",
    "\n",
    "$$ e^{sT} \\approx 1-Ts $$\n",
    "\n",
    "entonces la funcion de transferencia es\n",
    "\n",
    "$$ G(s) = \\frac{7031250*(1+0.2s)}{(s+0.667)(s+5)(s+50)} $$"
   ]
  },
  {
   "cell_type": "code",
   "execution_count": null,
   "id": "3b09bbdc-e283-4c51-9a42-ef087be7d360",
   "metadata": {},
   "outputs": [],
   "source": [
    "g ="
   ]
  }
 ],
 "metadata": {
  "kernelspec": {
   "display_name": "Octave",
   "language": "octave",
   "name": "octave"
  },
  "language_info": {
   "file_extension": ".m",
   "help_links": [
    {
     "text": "GNU Octave",
     "url": "https://www.gnu.org/software/octave/support.html"
    },
    {
     "text": "Octave Kernel",
     "url": "https://github.com/Calysto/octave_kernel"
    },
    {
     "text": "MetaKernel Magics",
     "url": "https://metakernel.readthedocs.io/en/latest/source/README.html"
    }
   ],
   "mimetype": "text/x-octave",
   "name": "octave",
   "version": "6.4.0"
  }
 },
 "nbformat": 4,
 "nbformat_minor": 5
}
